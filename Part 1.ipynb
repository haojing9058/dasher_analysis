{
 "cells": [
  {
   "cell_type": "code",
   "execution_count": 1,
   "metadata": {
    "collapsed": true
   },
   "outputs": [],
   "source": [
    "%matplotlib inline\n",
    "import pandas as pd\n",
    "import numpy as np\n",
    "import matplotlib.pyplot as plt\n",
    "from datetime import datetime, timedelta\n",
    "from pytz import timezone"
   ]
  },
  {
   "cell_type": "code",
   "execution_count": 2,
   "metadata": {
    "collapsed": true
   },
   "outputs": [],
   "source": [
    "data = pd.read_excel('BizOps_Sample Data.xlsx')"
   ]
  },
  {
   "cell_type": "code",
   "execution_count": 3,
   "metadata": {},
   "outputs": [
    {
     "data": {
      "text/html": [
       "<div>\n",
       "<style>\n",
       "    .dataframe thead tr:only-child th {\n",
       "        text-align: right;\n",
       "    }\n",
       "\n",
       "    .dataframe thead th {\n",
       "        text-align: left;\n",
       "    }\n",
       "\n",
       "    .dataframe tbody tr th {\n",
       "        vertical-align: top;\n",
       "    }\n",
       "</style>\n",
       "<table border=\"1\" class=\"dataframe\">\n",
       "  <thead>\n",
       "    <tr style=\"text-align: right;\">\n",
       "      <th></th>\n",
       "      <th>Customer placed order datetime</th>\n",
       "      <th>Placed order with restaurant datetime</th>\n",
       "      <th>Driver at restaurant datetime</th>\n",
       "      <th>Delivered to consumer datetime</th>\n",
       "      <th>Driver ID</th>\n",
       "      <th>Restaurant ID</th>\n",
       "      <th>Consumer ID</th>\n",
       "      <th>Is New</th>\n",
       "      <th>Delivery Region</th>\n",
       "      <th>Is ASAP</th>\n",
       "      <th>Order total</th>\n",
       "      <th>Amount of discount</th>\n",
       "      <th>Amount of tip</th>\n",
       "      <th>Refunded amount</th>\n",
       "    </tr>\n",
       "  </thead>\n",
       "  <tbody>\n",
       "    <tr>\n",
       "      <th>0</th>\n",
       "      <td>14 20:27:45</td>\n",
       "      <td>14 20:29:41</td>\n",
       "      <td>14 20:39:32</td>\n",
       "      <td>14 20:52:03</td>\n",
       "      <td>86</td>\n",
       "      <td>12</td>\n",
       "      <td>5</td>\n",
       "      <td>False</td>\n",
       "      <td>Palo Alto</td>\n",
       "      <td>True</td>\n",
       "      <td>20.45</td>\n",
       "      <td>20.45</td>\n",
       "      <td>3.07</td>\n",
       "      <td>0.0</td>\n",
       "    </tr>\n",
       "    <tr>\n",
       "      <th>1</th>\n",
       "      <td>07 20:16:28</td>\n",
       "      <td>07 20:17:32</td>\n",
       "      <td>07 20:36:00</td>\n",
       "      <td>07 20:49:02</td>\n",
       "      <td>325</td>\n",
       "      <td>66</td>\n",
       "      <td>5</td>\n",
       "      <td>False</td>\n",
       "      <td>Palo Alto</td>\n",
       "      <td>True</td>\n",
       "      <td>40.62</td>\n",
       "      <td>40.62</td>\n",
       "      <td>3.73</td>\n",
       "      <td>0.0</td>\n",
       "    </tr>\n",
       "    <tr>\n",
       "      <th>2</th>\n",
       "      <td>13 19:35:09</td>\n",
       "      <td>13 19:39:26</td>\n",
       "      <td>13 20:28:16</td>\n",
       "      <td>13 20:52:44</td>\n",
       "      <td>200</td>\n",
       "      <td>124</td>\n",
       "      <td>5</td>\n",
       "      <td>False</td>\n",
       "      <td>Palo Alto</td>\n",
       "      <td>True</td>\n",
       "      <td>37.78</td>\n",
       "      <td>37.78</td>\n",
       "      <td>1.89</td>\n",
       "      <td>0.0</td>\n",
       "    </tr>\n",
       "    <tr>\n",
       "      <th>3</th>\n",
       "      <td>22 19:47:53</td>\n",
       "      <td>22 19:56:08</td>\n",
       "      <td>22 20:01:20</td>\n",
       "      <td>22 20:18:01</td>\n",
       "      <td>154</td>\n",
       "      <td>5</td>\n",
       "      <td>14</td>\n",
       "      <td>False</td>\n",
       "      <td>Palo Alto</td>\n",
       "      <td>True</td>\n",
       "      <td>39.66</td>\n",
       "      <td>0.00</td>\n",
       "      <td>1.98</td>\n",
       "      <td>0.0</td>\n",
       "    </tr>\n",
       "    <tr>\n",
       "      <th>4</th>\n",
       "      <td>03 19:01:52</td>\n",
       "      <td>03 19:09:08</td>\n",
       "      <td>03 19:36:20</td>\n",
       "      <td>03 19:45:26</td>\n",
       "      <td>332</td>\n",
       "      <td>9</td>\n",
       "      <td>14</td>\n",
       "      <td>False</td>\n",
       "      <td>Palo Alto</td>\n",
       "      <td>True</td>\n",
       "      <td>39.66</td>\n",
       "      <td>0.00</td>\n",
       "      <td>5.95</td>\n",
       "      <td>0.0</td>\n",
       "    </tr>\n",
       "  </tbody>\n",
       "</table>\n",
       "</div>"
      ],
      "text/plain": [
       "  Customer placed order datetime Placed order with restaurant datetime  \\\n",
       "0                    14 20:27:45                           14 20:29:41   \n",
       "1                    07 20:16:28                           07 20:17:32   \n",
       "2                    13 19:35:09                           13 19:39:26   \n",
       "3                    22 19:47:53                           22 19:56:08   \n",
       "4                    03 19:01:52                           03 19:09:08   \n",
       "\n",
       "  Driver at restaurant datetime Delivered to consumer datetime  Driver ID  \\\n",
       "0                   14 20:39:32                    14 20:52:03         86   \n",
       "1                   07 20:36:00                    07 20:49:02        325   \n",
       "2                   13 20:28:16                    13 20:52:44        200   \n",
       "3                   22 20:01:20                    22 20:18:01        154   \n",
       "4                   03 19:36:20                    03 19:45:26        332   \n",
       "\n",
       "   Restaurant ID  Consumer ID  Is New Delivery Region  Is ASAP  Order total  \\\n",
       "0             12            5   False       Palo Alto     True        20.45   \n",
       "1             66            5   False       Palo Alto     True        40.62   \n",
       "2            124            5   False       Palo Alto     True        37.78   \n",
       "3              5           14   False       Palo Alto     True        39.66   \n",
       "4              9           14   False       Palo Alto     True        39.66   \n",
       "\n",
       "   Amount of discount  Amount of tip  Refunded amount  \n",
       "0               20.45           3.07              0.0  \n",
       "1               40.62           3.73              0.0  \n",
       "2               37.78           1.89              0.0  \n",
       "3                0.00           1.98              0.0  \n",
       "4                0.00           5.95              0.0  "
      ]
     },
     "execution_count": 3,
     "metadata": {},
     "output_type": "execute_result"
    }
   ],
   "source": [
    "data.head()"
   ]
  },
  {
   "cell_type": "code",
   "execution_count": 4,
   "metadata": {},
   "outputs": [
    {
     "data": {
      "text/plain": [
       "(18078, 14)"
      ]
     },
     "execution_count": 4,
     "metadata": {},
     "output_type": "execute_result"
    }
   ],
   "source": [
    "data.shape"
   ]
  },
  {
   "cell_type": "code",
   "execution_count": 5,
   "metadata": {
    "scrolled": true
   },
   "outputs": [
    {
     "data": {
      "text/plain": [
       "Customer placed order datetime            object\n",
       "Placed order with restaurant datetime     object\n",
       "Driver at restaurant datetime             object\n",
       "Delivered to consumer datetime            object\n",
       "Driver ID                                  int64\n",
       "Restaurant ID                              int64\n",
       "Consumer ID                                int64\n",
       "Is New                                      bool\n",
       "Delivery Region                           object\n",
       "Is ASAP                                     bool\n",
       "Order total                              float64\n",
       "Amount of discount                       float64\n",
       "Amount of tip                            float64\n",
       "Refunded amount                          float64\n",
       "dtype: object"
      ]
     },
     "execution_count": 5,
     "metadata": {},
     "output_type": "execute_result"
    }
   ],
   "source": [
    "data.dtypes"
   ]
  },
  {
   "cell_type": "code",
   "execution_count": 6,
   "metadata": {
    "collapsed": true
   },
   "outputs": [],
   "source": [
    "#convert datetime variables from string to datetime format, and from UTC to PDT\n",
    "data['order_datetime'] = pd.to_datetime(data['Customer placed order datetime'], format=\"%d %H:%M:%S\", utc=True) + timedelta(hours=6)\n",
    "data['receive_by_restaurant'] = pd.to_datetime(data['Placed order with restaurant datetime'], format=\"%d %H:%M:%S\", utc=True) + timedelta(hours=6)\n",
    "data['driver_at_restaurant'] = pd.to_datetime(data['Driver at restaurant datetime'], format=\"%d %H:%M:%S\", utc=True) + timedelta(hours=6)\n",
    "data['deliver_datetime'] = pd.to_datetime(data['Delivered to consumer datetime'], format=\"%d %H:%M:%S\", utc=True) + timedelta(hours=6)"
   ]
  },
  {
   "cell_type": "markdown",
   "metadata": {},
   "source": [
    "Pandas by default give the year and month as 1900 Jan when we're not specifying. We can replace the year with 2013, the Doordash founded year. I'm going to leave it as it is since it does not bother my analysis. "
   ]
  },
  {
   "cell_type": "code",
   "execution_count": 7,
   "metadata": {
    "collapsed": true
   },
   "outputs": [],
   "source": [
    "#set order_datetime as the datetimeIndex of data\n",
    "data = data.set_index(pd.DatetimeIndex(data['order_datetime']))"
   ]
  },
  {
   "cell_type": "markdown",
   "metadata": {
    "collapsed": true
   },
   "source": [
    "#### Missing values discussion"
   ]
  },
  {
   "cell_type": "code",
   "execution_count": 8,
   "metadata": {
    "scrolled": true
   },
   "outputs": [
    {
     "data": {
      "text/plain": [
       "Customer placed order datetime              0\n",
       "Placed order with restaurant datetime      40\n",
       "Driver at restaurant datetime            4531\n",
       "Delivered to consumer datetime              0\n",
       "Driver ID                                   0\n",
       "Restaurant ID                               0\n",
       "Consumer ID                                 0\n",
       "Is New                                      0\n",
       "Delivery Region                             0\n",
       "Is ASAP                                     0\n",
       "Order total                                 0\n",
       "Amount of discount                          0\n",
       "Amount of tip                               0\n",
       "Refunded amount                             0\n",
       "order_datetime                              0\n",
       "receive_by_restaurant                      40\n",
       "driver_at_restaurant                     4531\n",
       "deliver_datetime                            0\n",
       "dtype: int64"
      ]
     },
     "execution_count": 8,
     "metadata": {},
     "output_type": "execute_result"
    }
   ],
   "source": [
    "#check missing value\n",
    "data.isnull().sum()"
   ]
  },
  {
   "cell_type": "markdown",
   "metadata": {},
   "source": [
    "40 missing values in \"Placed order with restaurant datetime\". To investigate what has happened, it would be interesting know if these orders were delivered to customer - 1) Did the driver show up? 2) What was the delivered to customer datetime? 3) Was there refund associated?"
   ]
  },
  {
   "cell_type": "code",
   "execution_count": 9,
   "metadata": {
    "collapsed": true
   },
   "outputs": [],
   "source": [
    "missing_receive_by_rest = data.loc[data['receive_by_restaurant'].isnull()]"
   ]
  },
  {
   "cell_type": "code",
   "execution_count": 12,
   "metadata": {
    "scrolled": false
   },
   "outputs": [
    {
     "name": "stdout",
     "output_type": "stream",
     "text": [
      "Consumers received thier orders between 30.0 and 3747.0 minutes\n",
      "Number of drivers showed up: 23\n",
      "Refund ratio: 0.06%\n"
     ]
    },
    {
     "name": "stderr",
     "output_type": "stream",
     "text": [
      "/Users/jinghao/anaconda/lib/python3.6/site-packages/ipykernel_launcher.py:2: SettingWithCopyWarning: \n",
      "A value is trying to be set on a copy of a slice from a DataFrame.\n",
      "Try using .loc[row_indexer,col_indexer] = value instead\n",
      "\n",
      "See the caveats in the documentation: http://pandas.pydata.org/pandas-docs/stable/indexing.html#indexing-view-versus-copy\n",
      "  \n"
     ]
    }
   ],
   "source": [
    "#waiting time = deliver_datetime - order_datetime\n",
    "missing_receive_by_rest['lead_time'] = (missing_receive_by_rest['deliver_datetime'] - missing_receive_by_rest['order_datetime']).astype('timedelta64[m]') \n",
    "print (\"Consumers received thier orders between {} and {} minutes\".format(missing_receive_by_rest['lead_time'].min(), missing_receive_by_rest['lead_time'].max()))\n",
    "#how many drivers showed up\n",
    "print (\"Number of drivers showed up: {}\".format(40 - missing_receive_by_rest['Driver at restaurant datetime'].isnull().sum()))\n",
    "#refund percentage\n",
    "ratio = missing_receive_by_rest['Refunded amount'].sum() / missing_receive_by_rest['Order total'].sum()\n",
    "print (\"Refund ratio: {0:.2f}%\".format(ratio*100))"
   ]
  },
  {
   "cell_type": "markdown",
   "metadata": {},
   "source": [
    "Among the 40 transactions that missing the \"receive_by_restaurant\" datetime, all of them were delivered with a positive lead time between 30 minutes to less than 3 days; at least 23 orders got delivered by drivers; and the refund ratio was as low as 0.06%. We can conclude that even with these missing data, the orders were still fulfilled."
   ]
  },
  {
   "cell_type": "markdown",
   "metadata": {},
   "source": [
    "Now let's look at the 4531 records with missing values of \"driver_at_restaurant\".It's very possible that the customer came to restaurant and picked up the order. But to confirm, we need to answer the same questions above."
   ]
  },
  {
   "cell_type": "code",
   "execution_count": 13,
   "metadata": {
    "collapsed": true
   },
   "outputs": [],
   "source": [
    "missing_drivers = data.loc[data['driver_at_restaurant'].isnull()]"
   ]
  },
  {
   "cell_type": "code",
   "execution_count": 14,
   "metadata": {
    "scrolled": true
   },
   "outputs": [
    {
     "name": "stdout",
     "output_type": "stream",
     "text": [
      "Consumers received thier orders between 49.0 and 1209.0 minutes\n",
      "Refund ratio: 1.54%\n"
     ]
    },
    {
     "name": "stderr",
     "output_type": "stream",
     "text": [
      "/Users/jinghao/anaconda/lib/python3.6/site-packages/ipykernel_launcher.py:2: SettingWithCopyWarning: \n",
      "A value is trying to be set on a copy of a slice from a DataFrame.\n",
      "Try using .loc[row_indexer,col_indexer] = value instead\n",
      "\n",
      "See the caveats in the documentation: http://pandas.pydata.org/pandas-docs/stable/indexing.html#indexing-view-versus-copy\n",
      "  \n"
     ]
    }
   ],
   "source": [
    "#waiting time = deliver_datetime - order_datetime\n",
    "missing_drivers['lead_time'] = (missing_receive_by_rest['deliver_datetime'] - missing_receive_by_rest['order_datetime']).astype('timedelta64[m]') \n",
    "print (\"Consumers received thier orders between {} and {} minutes\".format(missing_drivers['lead_time'].min(), missing_drivers['lead_time'].max()))\n",
    "#refund percentage\n",
    "ratio = missing_drivers['Refunded amount'].sum() / missing_drivers['Order total'].sum()\n",
    "print (\"Refund ratio: {0:.2f}%\".format(ratio*100))"
   ]
  },
  {
   "cell_type": "code",
   "execution_count": 15,
   "metadata": {
    "scrolled": false
   },
   "outputs": [
    {
     "name": "stdout",
     "output_type": "stream",
     "text": [
      "total restaurants: 274\n",
      "total orders (4531) fulfilled by top 20 restaurants: 1811\n"
     ]
    },
    {
     "data": {
      "image/png": "[encoded data removed]",
      "text/plain": [
       "<matplotlib.figure.Figure at 0x10f591f98>"
      ]
     },
     "metadata": {},
     "output_type": "display_data"
    }
   ],
   "source": [
    "print('total restaurants: {}'.format(missing_drivers['Restaurant ID'].value_counts().shape[0]))\n",
    "print('total orders (4531) fulfilled by top 20 restaurants: {}'.format(missing_drivers['Restaurant ID'].value_counts().head(20).sum()))\n",
    "fig = plt.figure()\n",
    "ax = fig.add_subplot(111)\n",
    "missing_drivers['Restaurant ID'].value_counts().head(20).plot(kind='bar')\n",
    "plt.title('top 20 restaurants not using Doordash drivers')\n",
    "plt.ylabel('counts')\n",
    "plt.xlabel('Restaurant ID')\n",
    "plt.xticks(rotation='horizontal')\n",
    "ax.spines['top'].set_visible(False)\n",
    "ax.spines['right'].set_visible(False)"
   ]
  },
  {
   "cell_type": "markdown",
   "metadata": {},
   "source": [
    "All the orders got delivered with from 49 minutes to 20 hours of lead time; the refund ratio was as low as 1.54%. The following bar plot shows the restaurants with the most transactions. Out of 4531 order with missing \"driver_at_restaurant\" datetime data, the top 20 restaurants completed 1811 orders. As these transactions have high density on some restaurants, it could be that these restaurants offer straight deliveries, or in the areas that consumers would like to pick up, or not parking friendly for drivers. To answer this, we can further explore the location and traffic of these restaurants.\n",
    "\n",
    "One suggestion here for the desigh of system is that if we can get special timestamp codes based on differenct situations: the customer picked up the food, or the restaurant delivered the food, or the driver missed the deliery, or the system missed the message, etc. That would help a lot in understanding what happened here. But back to the concerns to the missing values, they should not affect my analysis futher."
   ]
  },
  {
   "cell_type": "code",
   "execution_count": 16,
   "metadata": {
    "scrolled": false
   },
   "outputs": [
    {
     "data": {
      "text/html": [
       "<div>\n",
       "<style>\n",
       "    .dataframe thead tr:only-child th {\n",
       "        text-align: right;\n",
       "    }\n",
       "\n",
       "    .dataframe thead th {\n",
       "        text-align: left;\n",
       "    }\n",
       "\n",
       "    .dataframe tbody tr th {\n",
       "        vertical-align: top;\n",
       "    }\n",
       "</style>\n",
       "<table border=\"1\" class=\"dataframe\">\n",
       "  <thead>\n",
       "    <tr style=\"text-align: right;\">\n",
       "      <th></th>\n",
       "      <th>Driver ID</th>\n",
       "      <th>Restaurant ID</th>\n",
       "      <th>Consumer ID</th>\n",
       "      <th>Order total</th>\n",
       "      <th>Amount of discount</th>\n",
       "      <th>Amount of tip</th>\n",
       "      <th>Refunded amount</th>\n",
       "    </tr>\n",
       "  </thead>\n",
       "  <tbody>\n",
       "    <tr>\n",
       "      <th>count</th>\n",
       "      <td>18078.000000</td>\n",
       "      <td>18078.000000</td>\n",
       "      <td>18078.000000</td>\n",
       "      <td>18078.000000</td>\n",
       "      <td>18078.000000</td>\n",
       "      <td>18078.000000</td>\n",
       "      <td>18078.000000</td>\n",
       "    </tr>\n",
       "    <tr>\n",
       "      <th>mean</th>\n",
       "      <td>222.448169</td>\n",
       "      <td>108.721263</td>\n",
       "      <td>32010.313475</td>\n",
       "      <td>51.261496</td>\n",
       "      <td>1.356706</td>\n",
       "      <td>3.492022</td>\n",
       "      <td>0.612091</td>\n",
       "    </tr>\n",
       "    <tr>\n",
       "      <th>std</th>\n",
       "      <td>105.219194</td>\n",
       "      <td>98.609766</td>\n",
       "      <td>42010.215766</td>\n",
       "      <td>50.599675</td>\n",
       "      <td>6.516667</td>\n",
       "      <td>3.700115</td>\n",
       "      <td>6.073104</td>\n",
       "    </tr>\n",
       "    <tr>\n",
       "      <th>min</th>\n",
       "      <td>7.000000</td>\n",
       "      <td>2.000000</td>\n",
       "      <td>5.000000</td>\n",
       "      <td>0.000000</td>\n",
       "      <td>0.000000</td>\n",
       "      <td>0.000000</td>\n",
       "      <td>0.000000</td>\n",
       "    </tr>\n",
       "    <tr>\n",
       "      <th>25%</th>\n",
       "      <td>141.000000</td>\n",
       "      <td>23.000000</td>\n",
       "      <td>4243.500000</td>\n",
       "      <td>26.660000</td>\n",
       "      <td>0.000000</td>\n",
       "      <td>1.400000</td>\n",
       "      <td>0.000000</td>\n",
       "    </tr>\n",
       "    <tr>\n",
       "      <th>50%</th>\n",
       "      <td>227.000000</td>\n",
       "      <td>77.000000</td>\n",
       "      <td>10972.000000</td>\n",
       "      <td>38.630000</td>\n",
       "      <td>0.000000</td>\n",
       "      <td>2.550000</td>\n",
       "      <td>0.000000</td>\n",
       "    </tr>\n",
       "    <tr>\n",
       "      <th>75%</th>\n",
       "      <td>314.000000</td>\n",
       "      <td>186.000000</td>\n",
       "      <td>56857.000000</td>\n",
       "      <td>57.885000</td>\n",
       "      <td>0.000000</td>\n",
       "      <td>4.460000</td>\n",
       "      <td>0.000000</td>\n",
       "    </tr>\n",
       "    <tr>\n",
       "      <th>max</th>\n",
       "      <td>438.000000</td>\n",
       "      <td>409.000000</td>\n",
       "      <td>200449.000000</td>\n",
       "      <td>1604.130000</td>\n",
       "      <td>187.880000</td>\n",
       "      <td>120.300000</td>\n",
       "      <td>414.770000</td>\n",
       "    </tr>\n",
       "  </tbody>\n",
       "</table>\n",
       "</div>"
      ],
      "text/plain": [
       "          Driver ID  Restaurant ID    Consumer ID   Order total  \\\n",
       "count  18078.000000   18078.000000   18078.000000  18078.000000   \n",
       "mean     222.448169     108.721263   32010.313475     51.261496   \n",
       "std      105.219194      98.609766   42010.215766     50.599675   \n",
       "min        7.000000       2.000000       5.000000      0.000000   \n",
       "25%      141.000000      23.000000    4243.500000     26.660000   \n",
       "50%      227.000000      77.000000   10972.000000     38.630000   \n",
       "75%      314.000000     186.000000   56857.000000     57.885000   \n",
       "max      438.000000     409.000000  200449.000000   1604.130000   \n",
       "\n",
       "       Amount of discount  Amount of tip  Refunded amount  \n",
       "count        18078.000000   18078.000000     18078.000000  \n",
       "mean             1.356706       3.492022         0.612091  \n",
       "std              6.516667       3.700115         6.073104  \n",
       "min              0.000000       0.000000         0.000000  \n",
       "25%              0.000000       1.400000         0.000000  \n",
       "50%              0.000000       2.550000         0.000000  \n",
       "75%              0.000000       4.460000         0.000000  \n",
       "max            187.880000     120.300000       414.770000  "
      ]
     },
     "execution_count": 16,
     "metadata": {},
     "output_type": "execute_result"
    }
   ],
   "source": [
    "#check the data range and possible outliers\n",
    "data.describe()"
   ]
  },
  {
   "cell_type": "markdown",
   "metadata": {},
   "source": [
    "No obvious outliers found."
   ]
  },
  {
   "cell_type": "markdown",
   "metadata": {
    "collapsed": true
   },
   "source": [
    "#### Data stories"
   ]
  },
  {
   "cell_type": "code",
   "execution_count": 17,
   "metadata": {
    "scrolled": false
   },
   "outputs": [
    {
     "data": {
      "text/plain": [
       "<matplotlib.text.Text at 0x10fefe588>"
      ]
     },
     "execution_count": 17,
     "metadata": {},
     "output_type": "execute_result"
    },
    {
     "data": {
      "image/png": "[encoded data removed]",
      "text/plain": [
       "<matplotlib.figure.Figure at 0x10f591da0>"
      ]
     },
     "metadata": {},
     "output_type": "display_data"
    }
   ],
   "source": [
    "data['Order total'].plot(figsize=(12,6))\n",
    "plt.ylabel('dashes')"
   ]
  },
  {
   "cell_type": "markdown",
   "metadata": {},
   "source": [
    "The overall transactions is steay within the month. With the pattern that every five days of relatively high values followed by two days of low values, we can roughly conclude that weekays have more orders than weekends. Within each day, it also shows peak hours. Could there be any mid-night orders? It would be an interesting question to answer if we limit the plot scope to less days and get a magnification of hourly pattern."
   ]
  },
  {
   "cell_type": "markdown",
   "metadata": {},
   "source": [
    "As I'm more interested in improving the business and drive market growth, I'm going to look at the sales summary."
   ]
  },
  {
   "cell_type": "code",
   "execution_count": 18,
   "metadata": {
    "scrolled": false
   },
   "outputs": [
    {
     "name": "stderr",
     "output_type": "stream",
     "text": [
      "/Users/jinghao/anaconda/lib/python3.6/site-packages/pandas/plotting/_core.py:178: UserWarning: 'colors' is being deprecated. Please use 'color'instead of 'colors'\n",
      "  warnings.warn((\"'colors' is being deprecated. Please use 'color'\"\n"
     ]
    },
    {
     "data": {
      "image/png": "[encoded data removed]",
      "text/plain": [
       "<matplotlib.figure.Figure at 0x10fb93208>"
      ]
     },
     "metadata": {},
     "output_type": "display_data"
    }
   ],
   "source": [
    "fig = plt.figure(figsize=(6,12))\n",
    "ax1 = fig.add_subplot(3, 1, 1)\n",
    "data.groupby(by=data['Delivery Region']).sum()['Order total'].plot(kind='bar', grid=True, colors = '#1f77b4', alpha=0.5)\n",
    "plt.ylabel('Order total')\n",
    "plt.title('Order Total by Delivery Region')\n",
    "plt.xticks(rotation='horizontal')\n",
    "ax1.spines['top'].set_visible(False)\n",
    "ax1.spines['right'].set_visible(False)\n",
    "\n",
    "ax1 = fig.add_subplot(3, 1, 2)\n",
    "data.groupby(by=data['Is New']).sum()['Order total'].plot(kind='bar', grid=True, colors = '#1f77b4', alpha=0.5)\n",
    "plt.ylabel('Order total')\n",
    "plt.title('Order Total by New/Current Customer')\n",
    "plt.xticks(rotation='horizontal')\n",
    "ax1.spines['top'].set_visible(False)\n",
    "ax1.spines['right'].set_visible(False)\n",
    "\n",
    "ax1 = fig.add_subplot(3, 1, 3)\n",
    "data.groupby(by=data['Is ASAP']).sum()['Order total'].plot(kind='bar', grid=True, colors = '#1f77b4', alpha=0.5)\n",
    "plt.ylabel('Order total')\n",
    "plt.title('Order Total by ASAP/Scheduled Delivery')\n",
    "plt.xticks(rotation='horizontal')\n",
    "ax1.spines['top'].set_visible(False)\n",
    "ax1.spines['right'].set_visible(False)\n",
    "\n",
    "plt.subplots_adjust(hspace=0.5)"
   ]
  },
  {
   "cell_type": "markdown",
   "metadata": {},
   "source": [
    "Current cutomers drive as three times of revenue as the new cutomers. San Jose area has the largest population and land but only drives less than three time of sales in Palo Alto. My suggession for attacting new cutomers is to target San Jose area. "
   ]
  },
  {
   "cell_type": "markdown",
   "metadata": {},
   "source": [
    "Now let's take a closer look of current vs new cutomers, see what we can to with improving retention rate and growth."
   ]
  },
  {
   "cell_type": "code",
   "execution_count": 19,
   "metadata": {
    "collapsed": true
   },
   "outputs": [],
   "source": [
    "#group the data by new/current customers.\n",
    "grouped = data.groupby(by=data['Is New'])"
   ]
  },
  {
   "cell_type": "code",
   "execution_count": 21,
   "metadata": {
    "scrolled": false
   },
   "outputs": [
    {
     "name": "stderr",
     "output_type": "stream",
     "text": [
      "/Users/jinghao/anaconda/lib/python3.6/site-packages/pandas/plotting/_core.py:178: UserWarning: 'colors' is being deprecated. Please use 'color'instead of 'colors'\n",
      "  warnings.warn((\"'colors' is being deprecated. Please use 'color'\"\n"
     ]
    },
    {
     "data": {
      "text/plain": [
       "<matplotlib.text.Text at 0x1104794e0>"
      ]
     },
     "execution_count": 21,
     "metadata": {},
     "output_type": "execute_result"
    },
    {
     "data": {
      "image/png": "[encoded data removed]",
      "text/plain": [
       "<matplotlib.figure.Figure at 0x10fb96630>"
      ]
     },
     "metadata": {},
     "output_type": "display_data"
    }
   ],
   "source": [
    "grouped.size().plot(kind='bar',grid=True, colors = '#1f77b4', alpha=0.5)\n",
    "plt.xticks(rotation='horizontal')\n",
    "plt.ylabel(\"dashes\")"
   ]
  },
  {
   "cell_type": "markdown",
   "metadata": {},
   "source": [
    "Do they show regional difference?"
   ]
  },
  {
   "cell_type": "code",
   "execution_count": 22,
   "metadata": {
    "scrolled": true
   },
   "outputs": [
    {
     "name": "stderr",
     "output_type": "stream",
     "text": [
      "/Users/jinghao/anaconda/lib/python3.6/site-packages/pandas/plotting/_core.py:178: UserWarning: 'colors' is being deprecated. Please use 'color'instead of 'colors'\n",
      "  warnings.warn((\"'colors' is being deprecated. Please use 'color'\"\n"
     ]
    },
    {
     "data": {
      "text/plain": [
       "<matplotlib.text.Text at 0x11097fb70>"
      ]
     },
     "execution_count": 22,
     "metadata": {},
     "output_type": "execute_result"
    },
    {
     "data": {
      "image/png": "[encoded data removed]",
      "text/plain": [
       "<matplotlib.figure.Figure at 0x110479588>"
      ]
     },
     "metadata": {},
     "output_type": "display_data"
    }
   ],
   "source": [
    "fig = plt.figure(figsize=(12, 4))\n",
    "ax1 = fig.add_subplot(1,2,1)\n",
    "# plt.bar(data.loc[data['Is New'] == True]['Delivery Region'].value_counts())\n",
    "data.loc[data['Is New'] == True]['Delivery Region'].value_counts().plot(kind='bar',grid=True, colors = '#1f77b4', alpha=0.5)\n",
    "plt.xticks(rotation='horizontal')\n",
    "plt.title(\"New Cutomers\")\n",
    "\n",
    "ax2 = fig.add_subplot(1,2,2)\n",
    "data.loc[data['Is New'] == False]['Delivery Region'].value_counts().plot(kind='bar',grid=True, colors = '#1f77b4', alpha=0.5)\n",
    "plt.xticks(rotation='horizontal')\n",
    "plt.title(\"Current Customers\")"
   ]
  },
  {
   "cell_type": "markdown",
   "metadata": {},
   "source": [
    "Looks like no."
   ]
  },
  {
   "cell_type": "markdown",
   "metadata": {},
   "source": [
    "Who is more satisfied?"
   ]
  },
  {
   "cell_type": "code",
   "execution_count": 23,
   "metadata": {
    "scrolled": false
   },
   "outputs": [
    {
     "data": {
      "text/plain": [
       "<matplotlib.axes._subplots.AxesSubplot at 0x10f5a4d68>"
      ]
     },
     "execution_count": 23,
     "metadata": {},
     "output_type": "execute_result"
    },
    {
     "data": {
      "image/png": "[encoded data removed]",
      "text/plain": [
       "<matplotlib.figure.Figure at 0x11096c828>"
      ]
     },
     "metadata": {},
     "output_type": "display_data"
    }
   ],
   "source": [
    "grouped.mean()['Amount of tip'].plot(kind='bar', color='#1f77b4', alpha=0.5)"
   ]
  },
  {
   "cell_type": "markdown",
   "metadata": {},
   "source": [
    "The average tip amount is almost the same."
   ]
  },
  {
   "cell_type": "markdown",
   "metadata": {},
   "source": [
    "Who is more unsatisfied?"
   ]
  },
  {
   "cell_type": "code",
   "execution_count": 24,
   "metadata": {
    "scrolled": true
   },
   "outputs": [
    {
     "name": "stdout",
     "output_type": "stream",
     "text": [
      "2.88% of new cutomers asked for refunds.\n",
      "2.71% of current cutomers asked for refunds.\n"
     ]
    }
   ],
   "source": [
    "new_cutomer_unsatisfaction = data.loc[(data['Refunded amount'] > 0) & (data['Is New'] == True)].shape[0] / data.loc[data['Is New'] == True].shape[0]\n",
    "current_cutomer_unsatisfaction = data.loc[(data['Refunded amount'] > 0) & (data['Is New'] == False)].shape[0] / data.loc[data['Is New'] == False].shape[0]\n",
    "print (\"{0:.2f}% of new cutomers asked for refunds.\".format(new_cutomer_unsatisfaction * 100))\n",
    "print (\"{0:.2f}% of current cutomers asked for refunds.\".format(current_cutomer_unsatisfaction * 100))"
   ]
  },
  {
   "cell_type": "markdown",
   "metadata": {},
   "source": [
    "Around the same... "
   ]
  },
  {
   "cell_type": "markdown",
   "metadata": {},
   "source": [
    "As we noticed more revenues were driven by ASAP orders. Would be interested to know who are using on-scheduled orders."
   ]
  },
  {
   "cell_type": "code",
   "execution_count": 25,
   "metadata": {
    "scrolled": false
   },
   "outputs": [
    {
     "name": "stderr",
     "output_type": "stream",
     "text": [
      "/Users/jinghao/anaconda/lib/python3.6/site-packages/pandas/plotting/_core.py:178: UserWarning: 'colors' is being deprecated. Please use 'color'instead of 'colors'\n",
      "  warnings.warn((\"'colors' is being deprecated. Please use 'color'\"\n"
     ]
    },
    {
     "data": {
      "text/plain": [
       "<matplotlib.text.Text at 0x10f7076a0>"
      ]
     },
     "execution_count": 25,
     "metadata": {},
     "output_type": "execute_result"
    },
    {
     "data": {
      "image/png": "[encoded data removed]",
      "text/plain": [
       "<matplotlib.figure.Figure at 0x10f850550>"
      ]
     },
     "metadata": {},
     "output_type": "display_data"
    }
   ],
   "source": [
    "fig = plt.figure(figsize=(12, 4))\n",
    "ax1 = fig.add_subplot(1,2,1)\n",
    "# plt.bar(data.loc[data['Is New'] == True]['Delivery Region'].value_counts())\n",
    "data.loc[data['Is New'] == True]['Is ASAP'].value_counts().plot(kind='bar',grid=True, colors = '#1f77b4', alpha=0.5)\n",
    "plt.xticks(rotation='horizontal')\n",
    "plt.xlabel(\"Is ASAP?\")\n",
    "plt.title(\"New Cutomers\")\n",
    "\n",
    "ax2 = fig.add_subplot(1,2,2)\n",
    "data.loc[data['Is New'] == False]['Is ASAP'].value_counts().plot(kind='bar',grid=True, colors = '#1f77b4', alpha=0.5)\n",
    "plt.xticks(rotation='horizontal')\n",
    "plt.xlabel(\"Is ASAP?\")\n",
    "plt.title(\"Current Customers\")"
   ]
  },
  {
   "cell_type": "markdown",
   "metadata": {},
   "source": [
    "New and current cutomers seem to have the same attitude towards ASAP and on-schedule orders."
   ]
  },
  {
   "cell_type": "markdown",
   "metadata": {},
   "source": [
    "Now it comes to the question does the promotion work? Was the promotion targed to new customer? "
   ]
  },
  {
   "cell_type": "code",
   "execution_count": 26,
   "metadata": {},
   "outputs": [
    {
     "data": {
      "text/plain": [
       "<matplotlib.axes._subplots.AxesSubplot at 0x10f8da2b0>"
      ]
     },
     "execution_count": 26,
     "metadata": {},
     "output_type": "execute_result"
    },
    {
     "data": {
      "image/png": "[encoded data removed]",
      "text/plain": [
       "<matplotlib.figure.Figure at 0x1103854a8>"
      ]
     },
     "metadata": {},
     "output_type": "display_data"
    }
   ],
   "source": [
    "grouped.mean()['Amount of discount'].plot(kind='bar', color='#1f77b4', alpha=0.5)"
   ]
  },
  {
   "cell_type": "markdown",
   "metadata": {},
   "source": [
    "We can test if average amount of discount is the same between new and current customers."
   ]
  },
  {
   "cell_type": "code",
   "execution_count": 27,
   "metadata": {},
   "outputs": [
    {
     "name": "stdout",
     "output_type": "stream",
     "text": [
      "average discounts receved by new cutomers: 1.5186389521640091\n",
      "average discounts receved by current cutomers: 1.3176630509405463\n"
     ]
    }
   ],
   "source": [
    "mean_discount_new = data.loc[data['Is New'] == True]['Amount of discount'].mean()\n",
    "mean_discount_current = data.loc[data['Is New'] == False]['Amount of discount'].mean()\n",
    "print (\"average discounts receved by new cutomers: {}\".format(mean_discount_new))\n",
    "print (\"average discounts receved by current cutomers: {}\".format(mean_discount_current))"
   ]
  },
  {
   "cell_type": "code",
   "execution_count": 28,
   "metadata": {},
   "outputs": [
    {
     "name": "stdout",
     "output_type": "stream",
     "text": [
      "effect size: 0.20097590122346287\n"
     ]
    }
   ],
   "source": [
    "print(\"effect size: {}\".format(mean_discount_new - mean_discount_current))"
   ]
  },
  {
   "cell_type": "markdown",
   "metadata": {},
   "source": [
    "Null Hypothesis: Mean discounts aren't significantly different.\n",
    "\n",
    "Hypothese: Mean discounts are signicantly different.\n",
    "\n",
    "Perform t-test and determine the p-value.\n",
    "\n",
    "p-value is the probability that the effective size was by chance. If it's less than alpha, meaning there's only a small chance you would have obtained the data if the null hypothesis is true, then we can reject the null. In our case, it means the promotion is differented between new customers and current cutomers. \n",
    "\n",
    "Otherwise, it means the promotion to new customers and exist customers are not dignificantly different, I would suggest to give more promotion on first-time customer orders, which could potentially drive growth of the new customers."
   ]
  },
  {
   "cell_type": "markdown",
   "metadata": {},
   "source": [
    "*One extra step for performing statistical tests is that we need to further process the missing values. Since here we did not discuss about the restaurant's response time or driver's logistic time, we can drop \"Placed order with restaurant datetime\" and \"Driver at restaurant datetime\" columns. That would avoid the missing values.\n",
    "\n",
    "A limitation of this approach is that to check the effectiveness we should look into new customers' growth rate, which I would like to discuss in my future analysis."
   ]
  },
  {
   "cell_type": "markdown",
   "metadata": {},
   "source": [
    "### Answer to question 3"
   ]
  },
  {
   "cell_type": "markdown",
   "metadata": {},
   "source": [
    "If my hypothesis (average discounts to new customers and current custoemrs are different) was true, one of the challenges when we scale up the promotion is that our sample here is biased towards the bay area, the promotion works in one group may not work in another, thus we should consider more factors and make promotions more sensitive to the targeted market. \n",
    "\n",
    "The promotion should be differentiated among different delivery regions. In this example, the promotion targeted to San Jose area may drive growth.\n",
    "\n",
    "If on-scheduled delivery will help optimize the operations and logistic efficiency, the promotion should be preferred to on-scheduled order.\n",
    "\n",
    "We can do A/B test on different strategies and check on customer growth rate.\n"
   ]
  }
 ],
 "metadata": {
  "kernelspec": {
   "display_name": "Python 3",
   "language": "python",
   "name": "python3"
  },
  "language_info": {
   "codemirror_mode": {
    "name": "ipython",
    "version": 3
   },
   "file_extension": ".py",
   "mimetype": "text/x-python",
   "name": "python",
   "nbconvert_exporter": "python",
   "pygments_lexer": "ipython3",
   "version": "3.6.5"
  }
 },
 "nbformat": 4,
 "nbformat_minor": 2
}
